{
  "nbformat": 4,
  "nbformat_minor": 0,
  "metadata": {
    "colab": {
      "provenance": []
    },
    "kernelspec": {
      "name": "python3",
      "display_name": "Python 3"
    },
    "language_info": {
      "name": "python"
    },
    "accelerator": "GPU",
    "gpuClass": "standard"
  },
  "cells": [
    {
      "cell_type": "code",
      "execution_count": 1,
      "metadata": {
        "id": "PpipyjnE0ELT"
      },
      "outputs": [],
      "source": [
        "import pandas as pd\n",
        "import matplotlib.pyplot as plt\n",
        "import numpy as np\n",
        "from sklearn.model_selection import train_test_split\n",
        "import random\n",
        "from sklearn.svm import SVC"
      ]
    },
    {
      "cell_type": "code",
      "source": [
        "df = pd.read_csv('adult.csv')"
      ],
      "metadata": {
        "id": "qrAw_sUOE13H"
      },
      "execution_count": 2,
      "outputs": []
    },
    {
      "cell_type": "code",
      "source": [
        "df.head()"
      ],
      "metadata": {
        "colab": {
          "base_uri": "https://localhost:8080/",
          "height": 354
        },
        "id": "tL9EvsUg7ttw",
        "outputId": "0b588841-8bac-4b6f-873b-7d1490fb67a3"
      },
      "execution_count": 3,
      "outputs": [
        {
          "output_type": "execute_result",
          "data": {
            "text/plain": [
              "   age  workclass  fnlwgt     education  educational-num      marital-status  \\\n",
              "0   25    Private  226802          11th                7       Never-married   \n",
              "1   38    Private   89814       HS-grad                9  Married-civ-spouse   \n",
              "2   28  Local-gov  336951    Assoc-acdm               12  Married-civ-spouse   \n",
              "3   44    Private  160323  Some-college               10  Married-civ-spouse   \n",
              "4   18          ?  103497  Some-college               10       Never-married   \n",
              "\n",
              "          occupation relationship   race  gender  capital-gain  capital-loss  \\\n",
              "0  Machine-op-inspct    Own-child  Black    Male             0             0   \n",
              "1    Farming-fishing      Husband  White    Male             0             0   \n",
              "2    Protective-serv      Husband  White    Male             0             0   \n",
              "3  Machine-op-inspct      Husband  Black    Male          7688             0   \n",
              "4                  ?    Own-child  White  Female             0             0   \n",
              "\n",
              "   hours-per-week native-country income  \n",
              "0              40  United-States  <=50K  \n",
              "1              50  United-States  <=50K  \n",
              "2              40  United-States   >50K  \n",
              "3              40  United-States   >50K  \n",
              "4              30  United-States  <=50K  "
            ],
            "text/html": [
              "\n",
              "  <div id=\"df-e4cd1fed-0a61-4e40-ac7e-3deead4851be\">\n",
              "    <div class=\"colab-df-container\">\n",
              "      <div>\n",
              "<style scoped>\n",
              "    .dataframe tbody tr th:only-of-type {\n",
              "        vertical-align: middle;\n",
              "    }\n",
              "\n",
              "    .dataframe tbody tr th {\n",
              "        vertical-align: top;\n",
              "    }\n",
              "\n",
              "    .dataframe thead th {\n",
              "        text-align: right;\n",
              "    }\n",
              "</style>\n",
              "<table border=\"1\" class=\"dataframe\">\n",
              "  <thead>\n",
              "    <tr style=\"text-align: right;\">\n",
              "      <th></th>\n",
              "      <th>age</th>\n",
              "      <th>workclass</th>\n",
              "      <th>fnlwgt</th>\n",
              "      <th>education</th>\n",
              "      <th>educational-num</th>\n",
              "      <th>marital-status</th>\n",
              "      <th>occupation</th>\n",
              "      <th>relationship</th>\n",
              "      <th>race</th>\n",
              "      <th>gender</th>\n",
              "      <th>capital-gain</th>\n",
              "      <th>capital-loss</th>\n",
              "      <th>hours-per-week</th>\n",
              "      <th>native-country</th>\n",
              "      <th>income</th>\n",
              "    </tr>\n",
              "  </thead>\n",
              "  <tbody>\n",
              "    <tr>\n",
              "      <th>0</th>\n",
              "      <td>25</td>\n",
              "      <td>Private</td>\n",
              "      <td>226802</td>\n",
              "      <td>11th</td>\n",
              "      <td>7</td>\n",
              "      <td>Never-married</td>\n",
              "      <td>Machine-op-inspct</td>\n",
              "      <td>Own-child</td>\n",
              "      <td>Black</td>\n",
              "      <td>Male</td>\n",
              "      <td>0</td>\n",
              "      <td>0</td>\n",
              "      <td>40</td>\n",
              "      <td>United-States</td>\n",
              "      <td>&lt;=50K</td>\n",
              "    </tr>\n",
              "    <tr>\n",
              "      <th>1</th>\n",
              "      <td>38</td>\n",
              "      <td>Private</td>\n",
              "      <td>89814</td>\n",
              "      <td>HS-grad</td>\n",
              "      <td>9</td>\n",
              "      <td>Married-civ-spouse</td>\n",
              "      <td>Farming-fishing</td>\n",
              "      <td>Husband</td>\n",
              "      <td>White</td>\n",
              "      <td>Male</td>\n",
              "      <td>0</td>\n",
              "      <td>0</td>\n",
              "      <td>50</td>\n",
              "      <td>United-States</td>\n",
              "      <td>&lt;=50K</td>\n",
              "    </tr>\n",
              "    <tr>\n",
              "      <th>2</th>\n",
              "      <td>28</td>\n",
              "      <td>Local-gov</td>\n",
              "      <td>336951</td>\n",
              "      <td>Assoc-acdm</td>\n",
              "      <td>12</td>\n",
              "      <td>Married-civ-spouse</td>\n",
              "      <td>Protective-serv</td>\n",
              "      <td>Husband</td>\n",
              "      <td>White</td>\n",
              "      <td>Male</td>\n",
              "      <td>0</td>\n",
              "      <td>0</td>\n",
              "      <td>40</td>\n",
              "      <td>United-States</td>\n",
              "      <td>&gt;50K</td>\n",
              "    </tr>\n",
              "    <tr>\n",
              "      <th>3</th>\n",
              "      <td>44</td>\n",
              "      <td>Private</td>\n",
              "      <td>160323</td>\n",
              "      <td>Some-college</td>\n",
              "      <td>10</td>\n",
              "      <td>Married-civ-spouse</td>\n",
              "      <td>Machine-op-inspct</td>\n",
              "      <td>Husband</td>\n",
              "      <td>Black</td>\n",
              "      <td>Male</td>\n",
              "      <td>7688</td>\n",
              "      <td>0</td>\n",
              "      <td>40</td>\n",
              "      <td>United-States</td>\n",
              "      <td>&gt;50K</td>\n",
              "    </tr>\n",
              "    <tr>\n",
              "      <th>4</th>\n",
              "      <td>18</td>\n",
              "      <td>?</td>\n",
              "      <td>103497</td>\n",
              "      <td>Some-college</td>\n",
              "      <td>10</td>\n",
              "      <td>Never-married</td>\n",
              "      <td>?</td>\n",
              "      <td>Own-child</td>\n",
              "      <td>White</td>\n",
              "      <td>Female</td>\n",
              "      <td>0</td>\n",
              "      <td>0</td>\n",
              "      <td>30</td>\n",
              "      <td>United-States</td>\n",
              "      <td>&lt;=50K</td>\n",
              "    </tr>\n",
              "  </tbody>\n",
              "</table>\n",
              "</div>\n",
              "      <button class=\"colab-df-convert\" onclick=\"convertToInteractive('df-e4cd1fed-0a61-4e40-ac7e-3deead4851be')\"\n",
              "              title=\"Convert this dataframe to an interactive table.\"\n",
              "              style=\"display:none;\">\n",
              "        \n",
              "  <svg xmlns=\"http://www.w3.org/2000/svg\" height=\"24px\"viewBox=\"0 0 24 24\"\n",
              "       width=\"24px\">\n",
              "    <path d=\"M0 0h24v24H0V0z\" fill=\"none\"/>\n",
              "    <path d=\"M18.56 5.44l.94 2.06.94-2.06 2.06-.94-2.06-.94-.94-2.06-.94 2.06-2.06.94zm-11 1L8.5 8.5l.94-2.06 2.06-.94-2.06-.94L8.5 2.5l-.94 2.06-2.06.94zm10 10l.94 2.06.94-2.06 2.06-.94-2.06-.94-.94-2.06-.94 2.06-2.06.94z\"/><path d=\"M17.41 7.96l-1.37-1.37c-.4-.4-.92-.59-1.43-.59-.52 0-1.04.2-1.43.59L10.3 9.45l-7.72 7.72c-.78.78-.78 2.05 0 2.83L4 21.41c.39.39.9.59 1.41.59.51 0 1.02-.2 1.41-.59l7.78-7.78 2.81-2.81c.8-.78.8-2.07 0-2.86zM5.41 20L4 18.59l7.72-7.72 1.47 1.35L5.41 20z\"/>\n",
              "  </svg>\n",
              "      </button>\n",
              "      \n",
              "  <style>\n",
              "    .colab-df-container {\n",
              "      display:flex;\n",
              "      flex-wrap:wrap;\n",
              "      gap: 12px;\n",
              "    }\n",
              "\n",
              "    .colab-df-convert {\n",
              "      background-color: #E8F0FE;\n",
              "      border: none;\n",
              "      border-radius: 50%;\n",
              "      cursor: pointer;\n",
              "      display: none;\n",
              "      fill: #1967D2;\n",
              "      height: 32px;\n",
              "      padding: 0 0 0 0;\n",
              "      width: 32px;\n",
              "    }\n",
              "\n",
              "    .colab-df-convert:hover {\n",
              "      background-color: #E2EBFA;\n",
              "      box-shadow: 0px 1px 2px rgba(60, 64, 67, 0.3), 0px 1px 3px 1px rgba(60, 64, 67, 0.15);\n",
              "      fill: #174EA6;\n",
              "    }\n",
              "\n",
              "    [theme=dark] .colab-df-convert {\n",
              "      background-color: #3B4455;\n",
              "      fill: #D2E3FC;\n",
              "    }\n",
              "\n",
              "    [theme=dark] .colab-df-convert:hover {\n",
              "      background-color: #434B5C;\n",
              "      box-shadow: 0px 1px 3px 1px rgba(0, 0, 0, 0.15);\n",
              "      filter: drop-shadow(0px 1px 2px rgba(0, 0, 0, 0.3));\n",
              "      fill: #FFFFFF;\n",
              "    }\n",
              "  </style>\n",
              "\n",
              "      <script>\n",
              "        const buttonEl =\n",
              "          document.querySelector('#df-e4cd1fed-0a61-4e40-ac7e-3deead4851be button.colab-df-convert');\n",
              "        buttonEl.style.display =\n",
              "          google.colab.kernel.accessAllowed ? 'block' : 'none';\n",
              "\n",
              "        async function convertToInteractive(key) {\n",
              "          const element = document.querySelector('#df-e4cd1fed-0a61-4e40-ac7e-3deead4851be');\n",
              "          const dataTable =\n",
              "            await google.colab.kernel.invokeFunction('convertToInteractive',\n",
              "                                                     [key], {});\n",
              "          if (!dataTable) return;\n",
              "\n",
              "          const docLinkHtml = 'Like what you see? Visit the ' +\n",
              "            '<a target=\"_blank\" href=https://colab.research.google.com/notebooks/data_table.ipynb>data table notebook</a>'\n",
              "            + ' to learn more about interactive tables.';\n",
              "          element.innerHTML = '';\n",
              "          dataTable['output_type'] = 'display_data';\n",
              "          await google.colab.output.renderOutput(dataTable, element);\n",
              "          const docLink = document.createElement('div');\n",
              "          docLink.innerHTML = docLinkHtml;\n",
              "          element.appendChild(docLink);\n",
              "        }\n",
              "      </script>\n",
              "    </div>\n",
              "  </div>\n",
              "  "
            ]
          },
          "metadata": {},
          "execution_count": 3
        }
      ]
    },
    {
      "cell_type": "code",
      "source": [
        "df.replace('?',np.nan,inplace = True)"
      ],
      "metadata": {
        "id": "8MeEIAra7wd5"
      },
      "execution_count": 4,
      "outputs": []
    },
    {
      "cell_type": "code",
      "source": [
        "len(df)"
      ],
      "metadata": {
        "colab": {
          "base_uri": "https://localhost:8080/"
        },
        "id": "LauKtT8n6ekh",
        "outputId": "c9f50590-1855-47e3-d08e-2eea1624d905"
      },
      "execution_count": 5,
      "outputs": [
        {
          "output_type": "execute_result",
          "data": {
            "text/plain": [
              "48842"
            ]
          },
          "metadata": {},
          "execution_count": 5
        }
      ]
    },
    {
      "cell_type": "code",
      "source": [
        "df.isnull().sum()"
      ],
      "metadata": {
        "colab": {
          "base_uri": "https://localhost:8080/"
        },
        "id": "ujeb6j127gDV",
        "outputId": "9f0c3c45-037d-48c9-daa3-04ddc4dd03b8"
      },
      "execution_count": 6,
      "outputs": [
        {
          "output_type": "execute_result",
          "data": {
            "text/plain": [
              "age                   0\n",
              "workclass          2799\n",
              "fnlwgt                0\n",
              "education             0\n",
              "educational-num       0\n",
              "marital-status        0\n",
              "occupation         2809\n",
              "relationship          0\n",
              "race                  0\n",
              "gender                0\n",
              "capital-gain          0\n",
              "capital-loss          0\n",
              "hours-per-week        0\n",
              "native-country      857\n",
              "income                0\n",
              "dtype: int64"
            ]
          },
          "metadata": {},
          "execution_count": 6
        }
      ]
    },
    {
      "cell_type": "code",
      "source": [
        "null_cols =['workclass','occupation','native-country'] "
      ],
      "metadata": {
        "id": "IINqqk1s7mWb"
      },
      "execution_count": 7,
      "outputs": []
    },
    {
      "cell_type": "code",
      "source": [
        "def handle_null(df,cols):\n",
        "    for col in cols:\n",
        "        df[col] = df.groupby(\"income\")[col].transform(lambda x: x.fillna(x.mode()[0]))\n",
        "    return df"
      ],
      "metadata": {
        "id": "IVpt1lRJ8YMO"
      },
      "execution_count": 8,
      "outputs": []
    },
    {
      "cell_type": "code",
      "source": [
        "df=handle_null(df,null_cols)\n",
        "df.isnull().sum()"
      ],
      "metadata": {
        "colab": {
          "base_uri": "https://localhost:8080/"
        },
        "id": "FNbOy8_797yg",
        "outputId": "486b845a-013a-4507-d8e7-5eddc378f80e"
      },
      "execution_count": 9,
      "outputs": [
        {
          "output_type": "execute_result",
          "data": {
            "text/plain": [
              "age                0\n",
              "workclass          0\n",
              "fnlwgt             0\n",
              "education          0\n",
              "educational-num    0\n",
              "marital-status     0\n",
              "occupation         0\n",
              "relationship       0\n",
              "race               0\n",
              "gender             0\n",
              "capital-gain       0\n",
              "capital-loss       0\n",
              "hours-per-week     0\n",
              "native-country     0\n",
              "income             0\n",
              "dtype: int64"
            ]
          },
          "metadata": {},
          "execution_count": 9
        }
      ]
    },
    {
      "cell_type": "code",
      "source": [
        "df=df.drop_duplicates() "
      ],
      "metadata": {
        "id": "TP2h7MCx9-wA"
      },
      "execution_count": 10,
      "outputs": []
    },
    {
      "cell_type": "code",
      "source": [
        "from sklearn import preprocessing\n",
        "numeric_cols=df.select_dtypes(include=[np.number]).columns\n",
        "std=preprocessing.StandardScaler()\n",
        "df[numeric_cols] = std.fit_transform(df[numeric_cols])"
      ],
      "metadata": {
        "colab": {
          "base_uri": "https://localhost:8080/"
        },
        "id": "gbEPrPSg-BF0",
        "outputId": "85cfca99-791b-44f1-8f17-9863c5740769"
      },
      "execution_count": 11,
      "outputs": [
        {
          "output_type": "stream",
          "name": "stderr",
          "text": [
            "<ipython-input-11-0c284728ca87>:4: SettingWithCopyWarning: \n",
            "A value is trying to be set on a copy of a slice from a DataFrame.\n",
            "Try using .loc[row_indexer,col_indexer] = value instead\n",
            "\n",
            "See the caveats in the documentation: https://pandas.pydata.org/pandas-docs/stable/user_guide/indexing.html#returning-a-view-versus-a-copy\n",
            "  df[numeric_cols] = std.fit_transform(df[numeric_cols])\n"
          ]
        }
      ]
    },
    {
      "cell_type": "code",
      "source": [
        "import matplotlib.pyplot as plt\n",
        "import seaborn as sns\n",
        "plt.figure(figsize=(7,6))\n",
        "sns.heatmap(df.corr(),annot=True,cmap='Blues')"
      ],
      "metadata": {
        "colab": {
          "base_uri": "https://localhost:8080/",
          "height": 703
        },
        "id": "vpteDI7_-Cng",
        "outputId": "990ea00e-3b48-4b4b-ccb3-0e7f7fa3ba99"
      },
      "execution_count": 12,
      "outputs": [
        {
          "output_type": "stream",
          "name": "stderr",
          "text": [
            "<ipython-input-12-7752882dd23e>:4: FutureWarning: The default value of numeric_only in DataFrame.corr is deprecated. In a future version, it will default to False. Select only valid columns or specify the value of numeric_only to silence this warning.\n",
            "  sns.heatmap(df.corr(),annot=True,cmap='Blues')\n"
          ]
        },
        {
          "output_type": "execute_result",
          "data": {
            "text/plain": [
              "<Axes: >"
            ]
          },
          "metadata": {},
          "execution_count": 12
        },
        {
          "output_type": "display_data",
          "data": {
            "text/plain": [
              "<Figure size 700x600 with 2 Axes>"
            ],
            "image/png": "[encoded data removed]"
          },
          "metadata": {}
        }
      ]
    },
    {
      "cell_type": "code",
      "source": [
        "def handle_catg(df):\n",
        "    cat_cols=df.select_dtypes(include=[object]).columns\n",
        "    #convert column catagories to nums\n",
        "    for col in cat_cols:\n",
        "        df[col]=df[col].astype(str)\n",
        "        col_vals=df[col].unique()\n",
        "        if len(col_vals)==2:\n",
        "            i=0\n",
        "            for label in col_vals:\n",
        "                df[col].replace(label,i,inplace=True)\n",
        "                i+=1\n",
        "    df=pd.get_dummies(df\n",
        "               ,columns =df.select_dtypes(include=[object]).columns \n",
        "               ,drop_first = True\n",
        "               )\n",
        "    return df"
      ],
      "metadata": {
        "id": "W9HGH5pO-F-4"
      },
      "execution_count": 13,
      "outputs": []
    },
    {
      "cell_type": "code",
      "source": [
        "df=handle_catg(df)\n",
        "df.head()"
      ],
      "metadata": {
        "colab": {
          "base_uri": "https://localhost:8080/",
          "height": 334
        },
        "id": "2XRRm-b9-K8p",
        "outputId": "95d4d0fc-2766-4786-a612-fba8d0aa0b7f"
      },
      "execution_count": 14,
      "outputs": [
        {
          "output_type": "execute_result",
          "data": {
            "text/plain": [
              "        age    fnlwgt  educational-num  gender  capital-gain  capital-loss  \\\n",
              "0 -0.995929  0.351583        -1.197969       0     -0.144884     -0.217251   \n",
              "1 -0.047609 -0.945440        -0.419771       0     -0.144884     -0.217251   \n",
              "2 -0.777086  1.394491         0.747525       0     -0.144884     -0.217251   \n",
              "3  0.390077 -0.277850        -0.030672       0      0.886245     -0.217251   \n",
              "4 -1.506563 -0.815887        -0.030672       1     -0.144884     -0.217251   \n",
              "\n",
              "   hours-per-week  income  workclass_Local-gov  workclass_Never-worked  ...  \\\n",
              "0       -0.034367       0                    0                       0  ...   \n",
              "1        0.772558       0                    0                       0  ...   \n",
              "2       -0.034367       1                    1                       0  ...   \n",
              "3       -0.034367       1                    0                       0  ...   \n",
              "4       -0.841291       0                    0                       0  ...   \n",
              "\n",
              "   native-country_Portugal  native-country_Puerto-Rico  \\\n",
              "0                        0                           0   \n",
              "1                        0                           0   \n",
              "2                        0                           0   \n",
              "3                        0                           0   \n",
              "4                        0                           0   \n",
              "\n",
              "   native-country_Scotland  native-country_South  native-country_Taiwan  \\\n",
              "0                        0                     0                      0   \n",
              "1                        0                     0                      0   \n",
              "2                        0                     0                      0   \n",
              "3                        0                     0                      0   \n",
              "4                        0                     0                      0   \n",
              "\n",
              "   native-country_Thailand  native-country_Trinadad&Tobago  \\\n",
              "0                        0                               0   \n",
              "1                        0                               0   \n",
              "2                        0                               0   \n",
              "3                        0                               0   \n",
              "4                        0                               0   \n",
              "\n",
              "   native-country_United-States  native-country_Vietnam  \\\n",
              "0                             1                       0   \n",
              "1                             1                       0   \n",
              "2                             1                       0   \n",
              "3                             1                       0   \n",
              "4                             1                       0   \n",
              "\n",
              "   native-country_Yugoslavia  \n",
              "0                          0  \n",
              "1                          0  \n",
              "2                          0  \n",
              "3                          0  \n",
              "4                          0  \n",
              "\n",
              "[5 rows x 98 columns]"
            ],
            "text/html": [
              "\n",
              "  <div id=\"df-3cd723d8-00fd-4d6d-ba8a-4cead73362ea\">\n",
              "    <div class=\"colab-df-container\">\n",
              "      <div>\n",
              "<style scoped>\n",
              "    .dataframe tbody tr th:only-of-type {\n",
              "        vertical-align: middle;\n",
              "    }\n",
              "\n",
              "    .dataframe tbody tr th {\n",
              "        vertical-align: top;\n",
              "    }\n",
              "\n",
              "    .dataframe thead th {\n",
              "        text-align: right;\n",
              "    }\n",
              "</style>\n",
              "<table border=\"1\" class=\"dataframe\">\n",
              "  <thead>\n",
              "    <tr style=\"text-align: right;\">\n",
              "      <th></th>\n",
              "      <th>age</th>\n",
              "      <th>fnlwgt</th>\n",
              "      <th>educational-num</th>\n",
              "      <th>gender</th>\n",
              "      <th>capital-gain</th>\n",
              "      <th>capital-loss</th>\n",
              "      <th>hours-per-week</th>\n",
              "      <th>income</th>\n",
              "      <th>workclass_Local-gov</th>\n",
              "      <th>workclass_Never-worked</th>\n",
              "      <th>...</th>\n",
              "      <th>native-country_Portugal</th>\n",
              "      <th>native-country_Puerto-Rico</th>\n",
              "      <th>native-country_Scotland</th>\n",
              "      <th>native-country_South</th>\n",
              "      <th>native-country_Taiwan</th>\n",
              "      <th>native-country_Thailand</th>\n",
              "      <th>native-country_Trinadad&amp;Tobago</th>\n",
              "      <th>native-country_United-States</th>\n",
              "      <th>native-country_Vietnam</th>\n",
              "      <th>native-country_Yugoslavia</th>\n",
              "    </tr>\n",
              "  </thead>\n",
              "  <tbody>\n",
              "    <tr>\n",
              "      <th>0</th>\n",
              "      <td>-0.995929</td>\n",
              "      <td>0.351583</td>\n",
              "      <td>-1.197969</td>\n",
              "      <td>0</td>\n",
              "      <td>-0.144884</td>\n",
              "      <td>-0.217251</td>\n",
              "      <td>-0.034367</td>\n",
              "      <td>0</td>\n",
              "      <td>0</td>\n",
              "      <td>0</td>\n",
              "      <td>...</td>\n",
              "      <td>0</td>\n",
              "      <td>0</td>\n",
              "      <td>0</td>\n",
              "      <td>0</td>\n",
              "      <td>0</td>\n",
              "      <td>0</td>\n",
              "      <td>0</td>\n",
              "      <td>1</td>\n",
              "      <td>0</td>\n",
              "      <td>0</td>\n",
              "    </tr>\n",
              "    <tr>\n",
              "      <th>1</th>\n",
              "      <td>-0.047609</td>\n",
              "      <td>-0.945440</td>\n",
              "      <td>-0.419771</td>\n",
              "      <td>0</td>\n",
              "      <td>-0.144884</td>\n",
              "      <td>-0.217251</td>\n",
              "      <td>0.772558</td>\n",
              "      <td>0</td>\n",
              "      <td>0</td>\n",
              "      <td>0</td>\n",
              "      <td>...</td>\n",
              "      <td>0</td>\n",
              "      <td>0</td>\n",
              "      <td>0</td>\n",
              "      <td>0</td>\n",
              "      <td>0</td>\n",
              "      <td>0</td>\n",
              "      <td>0</td>\n",
              "      <td>1</td>\n",
              "      <td>0</td>\n",
              "      <td>0</td>\n",
              "    </tr>\n",
              "    <tr>\n",
              "      <th>2</th>\n",
              "      <td>-0.777086</td>\n",
              "      <td>1.394491</td>\n",
              "      <td>0.747525</td>\n",
              "      <td>0</td>\n",
              "      <td>-0.144884</td>\n",
              "      <td>-0.217251</td>\n",
              "      <td>-0.034367</td>\n",
              "      <td>1</td>\n",
              "      <td>1</td>\n",
              "      <td>0</td>\n",
              "      <td>...</td>\n",
              "      <td>0</td>\n",
              "      <td>0</td>\n",
              "      <td>0</td>\n",
              "      <td>0</td>\n",
              "      <td>0</td>\n",
              "      <td>0</td>\n",
              "      <td>0</td>\n",
              "      <td>1</td>\n",
              "      <td>0</td>\n",
              "      <td>0</td>\n",
              "    </tr>\n",
              "    <tr>\n",
              "      <th>3</th>\n",
              "      <td>0.390077</td>\n",
              "      <td>-0.277850</td>\n",
              "      <td>-0.030672</td>\n",
              "      <td>0</td>\n",
              "      <td>0.886245</td>\n",
              "      <td>-0.217251</td>\n",
              "      <td>-0.034367</td>\n",
              "      <td>1</td>\n",
              "      <td>0</td>\n",
              "      <td>0</td>\n",
              "      <td>...</td>\n",
              "      <td>0</td>\n",
              "      <td>0</td>\n",
              "      <td>0</td>\n",
              "      <td>0</td>\n",
              "      <td>0</td>\n",
              "      <td>0</td>\n",
              "      <td>0</td>\n",
              "      <td>1</td>\n",
              "      <td>0</td>\n",
              "      <td>0</td>\n",
              "    </tr>\n",
              "    <tr>\n",
              "      <th>4</th>\n",
              "      <td>-1.506563</td>\n",
              "      <td>-0.815887</td>\n",
              "      <td>-0.030672</td>\n",
              "      <td>1</td>\n",
              "      <td>-0.144884</td>\n",
              "      <td>-0.217251</td>\n",
              "      <td>-0.841291</td>\n",
              "      <td>0</td>\n",
              "      <td>0</td>\n",
              "      <td>0</td>\n",
              "      <td>...</td>\n",
              "      <td>0</td>\n",
              "      <td>0</td>\n",
              "      <td>0</td>\n",
              "      <td>0</td>\n",
              "      <td>0</td>\n",
              "      <td>0</td>\n",
              "      <td>0</td>\n",
              "      <td>1</td>\n",
              "      <td>0</td>\n",
              "      <td>0</td>\n",
              "    </tr>\n",
              "  </tbody>\n",
              "</table>\n",
              "<p>5 rows × 98 columns</p>\n",
              "</div>\n",
              "      <button class=\"colab-df-convert\" onclick=\"convertToInteractive('df-3cd723d8-00fd-4d6d-ba8a-4cead73362ea')\"\n",
              "              title=\"Convert this dataframe to an interactive table.\"\n",
              "              style=\"display:none;\">\n",
              "        \n",
              "  <svg xmlns=\"http://www.w3.org/2000/svg\" height=\"24px\"viewBox=\"0 0 24 24\"\n",
              "       width=\"24px\">\n",
              "    <path d=\"M0 0h24v24H0V0z\" fill=\"none\"/>\n",
              "    <path d=\"M18.56 5.44l.94 2.06.94-2.06 2.06-.94-2.06-.94-.94-2.06-.94 2.06-2.06.94zm-11 1L8.5 8.5l.94-2.06 2.06-.94-2.06-.94L8.5 2.5l-.94 2.06-2.06.94zm10 10l.94 2.06.94-2.06 2.06-.94-2.06-.94-.94-2.06-.94 2.06-2.06.94z\"/><path d=\"M17.41 7.96l-1.37-1.37c-.4-.4-.92-.59-1.43-.59-.52 0-1.04.2-1.43.59L10.3 9.45l-7.72 7.72c-.78.78-.78 2.05 0 2.83L4 21.41c.39.39.9.59 1.41.59.51 0 1.02-.2 1.41-.59l7.78-7.78 2.81-2.81c.8-.78.8-2.07 0-2.86zM5.41 20L4 18.59l7.72-7.72 1.47 1.35L5.41 20z\"/>\n",
              "  </svg>\n",
              "      </button>\n",
              "      \n",
              "  <style>\n",
              "    .colab-df-container {\n",
              "      display:flex;\n",
              "      flex-wrap:wrap;\n",
              "      gap: 12px;\n",
              "    }\n",
              "\n",
              "    .colab-df-convert {\n",
              "      background-color: #E8F0FE;\n",
              "      border: none;\n",
              "      border-radius: 50%;\n",
              "      cursor: pointer;\n",
              "      display: none;\n",
              "      fill: #1967D2;\n",
              "      height: 32px;\n",
              "      padding: 0 0 0 0;\n",
              "      width: 32px;\n",
              "    }\n",
              "\n",
              "    .colab-df-convert:hover {\n",
              "      background-color: #E2EBFA;\n",
              "      box-shadow: 0px 1px 2px rgba(60, 64, 67, 0.3), 0px 1px 3px 1px rgba(60, 64, 67, 0.15);\n",
              "      fill: #174EA6;\n",
              "    }\n",
              "\n",
              "    [theme=dark] .colab-df-convert {\n",
              "      background-color: #3B4455;\n",
              "      fill: #D2E3FC;\n",
              "    }\n",
              "\n",
              "    [theme=dark] .colab-df-convert:hover {\n",
              "      background-color: #434B5C;\n",
              "      box-shadow: 0px 1px 3px 1px rgba(0, 0, 0, 0.15);\n",
              "      filter: drop-shadow(0px 1px 2px rgba(0, 0, 0, 0.3));\n",
              "      fill: #FFFFFF;\n",
              "    }\n",
              "  </style>\n",
              "\n",
              "      <script>\n",
              "        const buttonEl =\n",
              "          document.querySelector('#df-3cd723d8-00fd-4d6d-ba8a-4cead73362ea button.colab-df-convert');\n",
              "        buttonEl.style.display =\n",
              "          google.colab.kernel.accessAllowed ? 'block' : 'none';\n",
              "\n",
              "        async function convertToInteractive(key) {\n",
              "          const element = document.querySelector('#df-3cd723d8-00fd-4d6d-ba8a-4cead73362ea');\n",
              "          const dataTable =\n",
              "            await google.colab.kernel.invokeFunction('convertToInteractive',\n",
              "                                                     [key], {});\n",
              "          if (!dataTable) return;\n",
              "\n",
              "          const docLinkHtml = 'Like what you see? Visit the ' +\n",
              "            '<a target=\"_blank\" href=https://colab.research.google.com/notebooks/data_table.ipynb>data table notebook</a>'\n",
              "            + ' to learn more about interactive tables.';\n",
              "          element.innerHTML = '';\n",
              "          dataTable['output_type'] = 'display_data';\n",
              "          await google.colab.output.renderOutput(dataTable, element);\n",
              "          const docLink = document.createElement('div');\n",
              "          docLink.innerHTML = docLinkHtml;\n",
              "          element.appendChild(docLink);\n",
              "        }\n",
              "      </script>\n",
              "    </div>\n",
              "  </div>\n",
              "  "
            ]
          },
          "metadata": {},
          "execution_count": 14
        }
      ]
    },
    {
      "cell_type": "code",
      "source": [
        "df['income'].value_counts().plot(kind='bar')"
      ],
      "metadata": {
        "colab": {
          "base_uri": "https://localhost:8080/",
          "height": 442
        },
        "id": "24iRtZke-MUc",
        "outputId": "8a3896de-665d-4c12-fa51-5d288ce7ffa6"
      },
      "execution_count": 15,
      "outputs": [
        {
          "output_type": "execute_result",
          "data": {
            "text/plain": [
              "<Axes: >"
            ]
          },
          "metadata": {},
          "execution_count": 15
        },
        {
          "output_type": "display_data",
          "data": {
            "text/plain": [
              "<Figure size 640x480 with 1 Axes>"
            ],
            "image/png": "[encoded data removed]"
          },
          "metadata": {}
        }
      ]
    },
    {
      "cell_type": "code",
      "source": [
        "class_0_count,class_1_count=df['income'].value_counts()\n",
        "print(f'class (<=50k) count is {class_0_count} and class (>50k) count is {class_1_count}')"
      ],
      "metadata": {
        "colab": {
          "base_uri": "https://localhost:8080/"
        },
        "id": "1d1MBFrT-RKw",
        "outputId": "24855762-806d-450e-8223-3a28a9e438c4"
      },
      "execution_count": 16,
      "outputs": [
        {
          "output_type": "stream",
          "name": "stdout",
          "text": [
            "class (<=50k) count is 37109 and class (>50k) count is 11680\n"
          ]
        }
      ]
    },
    {
      "cell_type": "code",
      "source": [
        "class_0=df[df['income']==0]\n",
        "class_1=df[df['income']==1]"
      ],
      "metadata": {
        "id": "xrDjcERO-VI5"
      },
      "execution_count": 17,
      "outputs": []
    },
    {
      "cell_type": "code",
      "source": [
        "class_1_oversampled=class_1.sample(class_0_count,replace=True)\n",
        "class_1_oversampled.shape"
      ],
      "metadata": {
        "colab": {
          "base_uri": "https://localhost:8080/"
        },
        "id": "okjbvvjc-W91",
        "outputId": "f6e9e54e-161e-49a4-fa5c-58b39e5a8e01"
      },
      "execution_count": 18,
      "outputs": [
        {
          "output_type": "execute_result",
          "data": {
            "text/plain": [
              "(37109, 98)"
            ]
          },
          "metadata": {},
          "execution_count": 18
        }
      ]
    },
    {
      "cell_type": "code",
      "source": [
        "df_oversampled=pd.concat([class_0,class_1_oversampled],axis=0)\n",
        "df_oversampled.shape"
      ],
      "metadata": {
        "colab": {
          "base_uri": "https://localhost:8080/"
        },
        "id": "elrmOttw-YaJ",
        "outputId": "1052baf4-0e71-4ba3-89fc-188327c3e36a"
      },
      "execution_count": 19,
      "outputs": [
        {
          "output_type": "execute_result",
          "data": {
            "text/plain": [
              "(74218, 98)"
            ]
          },
          "metadata": {},
          "execution_count": 19
        }
      ]
    },
    {
      "cell_type": "code",
      "source": [
        "df_oversampled['income'].value_counts().plot(kind='bar')"
      ],
      "metadata": {
        "colab": {
          "base_uri": "https://localhost:8080/",
          "height": 442
        },
        "id": "Tuv58tvX-bH2",
        "outputId": "889212a3-62dc-4153-a535-c82ec16b5713"
      },
      "execution_count": 20,
      "outputs": [
        {
          "output_type": "execute_result",
          "data": {
            "text/plain": [
              "<Axes: >"
            ]
          },
          "metadata": {},
          "execution_count": 20
        },
        {
          "output_type": "display_data",
          "data": {
            "text/plain": [
              "<Figure size 640x480 with 1 Axes>"
            ],
            "image/png": "[encoded data removed]"
          },
          "metadata": {}
        }
      ]
    },
    {
      "cell_type": "code",
      "source": [
        "def corr_reduction(df,thresh):\n",
        "    df_corr_mat=df.corr()\n",
        "    correlated_features=set()\n",
        "    for i in range(len(df_corr_mat.columns)):\n",
        "        for j in range(i):\n",
        "            if abs(df_corr_mat.iloc[i, j]) > thresh:\n",
        "                print(df_corr_mat.columns[i],\" ,is highly correlated with, \",df_corr_mat.columns[j])\n",
        "                colname = df_corr_mat.columns[i]\n",
        "                correlated_features.add(colname)\n",
        "    \n",
        "    df.drop(columns=correlated_features,axis=1,inplace=True)\n",
        "    print(correlated_features,' are removed from data')\n",
        "\n",
        "\n",
        "    return df"
      ],
      "metadata": {
        "id": "ZNaRhgf2-dJW"
      },
      "execution_count": 21,
      "outputs": []
    },
    {
      "cell_type": "code",
      "source": [
        "df_red=corr_reduction(df,0.8)"
      ],
      "metadata": {
        "colab": {
          "base_uri": "https://localhost:8080/"
        },
        "id": "Uh6moRr3-pXf",
        "outputId": "0471bf6e-c5c8-4514-ab64-84d2a833f7b4"
      },
      "execution_count": 22,
      "outputs": [
        {
          "output_type": "stream",
          "name": "stdout",
          "text": [
            "set()  are removed from data\n"
          ]
        }
      ]
    },
    {
      "cell_type": "code",
      "source": [
        "def corr_feature_selection(df,target_name,thresh):\n",
        "    df_cor=pd.DataFrame(columns=['correlation with '+target_name])\n",
        "\n",
        "    for col in df.columns:\n",
        "        if col!=target_name:\n",
        "            df_cor.loc[col]=abs(df[target_name].corr(df.loc[:,col]))\n",
        "\n",
        "    df_cor.sort_values(by=['correlation with '+target_name],inplace=True,ascending=False)\n",
        "    \n",
        "    \n",
        "    #feature selection based on correlation with target\n",
        "    final_columns=[]\n",
        "    for i in df_cor.index:\n",
        "        if df_cor.loc[i,'correlation with '+target_name]>thresh:\n",
        "            final_columns.append(i)\n",
        "          \n",
        "    final_columns.append(target_name)\n",
        "    df=df.loc[:,final_columns]\n",
        "    return df,df_cor"
      ],
      "metadata": {
        "id": "Uta7AAPR-tAX"
      },
      "execution_count": 23,
      "outputs": []
    },
    {
      "cell_type": "code",
      "source": [
        "print(\"the shape of data before feature selection is: \",df.shape)\n",
        "df_final,df_corr=corr_feature_selection(df,'income',0.05)\n",
        "print(\"**************************************************************************\")\n",
        "print(df_corr.head())\n",
        "print(\"**************************************************************************\")\n",
        "print(df_final.head())\n",
        "print(\"**************************************************************************\")\n",
        "print(\"the shape of data after feature selection is: \",df_final.shape)"
      ],
      "metadata": {
        "colab": {
          "base_uri": "https://localhost:8080/"
        },
        "id": "CWeBnDpz-2Zi",
        "outputId": "54546426-c395-43e7-de7a-8d2b85b7d08c"
      },
      "execution_count": 24,
      "outputs": [
        {
          "output_type": "stream",
          "name": "stdout",
          "text": [
            "the shape of data before feature selection is:  (48789, 98)\n",
            "**************************************************************************\n",
            "                                   correlation with income\n",
            "marital-status_Married-civ-spouse                 0.445644\n",
            "educational-num                                   0.332829\n",
            "marital-status_Never-married                      0.318499\n",
            "occupation_Exec-managerial                        0.235720\n",
            "age                                               0.230132\n",
            "**************************************************************************\n",
            "   marital-status_Married-civ-spouse  educational-num  \\\n",
            "0                                  0        -1.197969   \n",
            "1                                  1        -0.419771   \n",
            "2                                  1         0.747525   \n",
            "3                                  1        -0.030672   \n",
            "4                                  0        -0.030672   \n",
            "\n",
            "   marital-status_Never-married  occupation_Exec-managerial       age  \\\n",
            "0                             1                           0 -0.995929   \n",
            "1                             0                           0 -0.047609   \n",
            "2                             0                           0 -0.777086   \n",
            "3                             0                           0  0.390077   \n",
            "4                             1                           0 -1.506563   \n",
            "\n",
            "   hours-per-week  relationship_Own-child  capital-gain  gender  \\\n",
            "0       -0.034367                       1     -0.144884       0   \n",
            "1        0.772558                       0     -0.144884       0   \n",
            "2       -0.034367                       0     -0.144884       0   \n",
            "3       -0.034367                       0      0.886245       0   \n",
            "4       -0.841291                       1     -0.144884       1   \n",
            "\n",
            "   relationship_Not-in-family  ...  race_White  marital-status_Separated  \\\n",
            "0                           0  ...           0                         0   \n",
            "1                           0  ...           1                         0   \n",
            "2                           0  ...           1                         0   \n",
            "3                           0  ...           0                         0   \n",
            "4                           0  ...           1                         0   \n",
            "\n",
            "   occupation_Machine-op-inspct  marital-status_Widowed  \\\n",
            "0                             1                       0   \n",
            "1                             0                       0   \n",
            "2                             0                       0   \n",
            "3                             1                       0   \n",
            "4                             0                       0   \n",
            "\n",
            "   native-country_Mexico  education_Some-college  education_7th-8th  \\\n",
            "0                      0                       0                  0   \n",
            "1                      0                       0                  0   \n",
            "2                      0                       0                  0   \n",
            "3                      0                       1                  0   \n",
            "4                      0                       1                  0   \n",
            "\n",
            "   education_9th  occupation_Farming-fishing  income  \n",
            "0              0                           0       0  \n",
            "1              0                           1       0  \n",
            "2              0                           0       1  \n",
            "3              0                           0       1  \n",
            "4              0                           0       0  \n",
            "\n",
            "[5 rows x 36 columns]\n",
            "**************************************************************************\n",
            "the shape of data after feature selection is:  (48789, 36)\n"
          ]
        }
      ]
    },
    {
      "cell_type": "code",
      "source": [
        "from sklearn.metrics import accuracy_score"
      ],
      "metadata": {
        "id": "mE0xZcq2IEzj"
      },
      "execution_count": 25,
      "outputs": []
    },
    {
      "cell_type": "code",
      "source": [
        "\n",
        "def fit_function(c,g,k,i,x_train,y_train,x_test,y_test) :\n",
        "  model = SVC(C = c,kernel = k)\n",
        "  \n",
        "  model.fit(x_train,y_train)\n",
        "  pred = model.predict(x_test)\n",
        "  score = accuracy_score(y_test,pred)\n",
        "  #print(score)\n",
        "  if score > cur_best :\n",
        "    \n",
        "    result.append((i,score,k,c,g))"
      ],
      "metadata": {
        "id": "7IZSi4qTGFZA"
      },
      "execution_count": 26,
      "outputs": []
    },
    {
      "cell_type": "code",
      "source": [
        "C = [0.1, 1, 10, 100, 1000]\n",
        "gamma = [1, 0.1, 0.01, 0.001, 0.0001]\n",
        "kernel = ['rbf', 'linear','poly','sigmoid']\n",
        "cur_best = 0\n",
        "result = []"
      ],
      "metadata": {
        "id": "A2eqkkXVF9ru"
      },
      "execution_count": 27,
      "outputs": []
    },
    {
      "cell_type": "code",
      "source": [
        "for i in range(10) :\n",
        "  for j in range(10) :\n",
        "    sample = df_final[i::5]\n",
        "\n",
        "    y=sample['income'].values\n",
        "    X=sample.drop(columns=['income'],axis=1).values\n",
        "    x_train,x_test,y_train,y_test=train_test_split(X,y,test_size=0.30)\n",
        "\n",
        "    c = random.choice(C)\n",
        "    g = random.choice(gamma)\n",
        "    k = random.choice(kernel)\n",
        "    #print(i,j,c,g,k,end = ' ')\n",
        "    fit_function(c,g,k,j,x_train,y_train,x_test,y_test)\n",
        "\n",
        "\n"
      ],
      "metadata": {
        "id": "sl0N8KCwC3os"
      },
      "execution_count": 28,
      "outputs": []
    },
    {
      "cell_type": "code",
      "source": [
        "result.sort(key= lambda x : x[1])"
      ],
      "metadata": {
        "id": "KGnUV-fJGL_A"
      },
      "execution_count": 30,
      "outputs": []
    },
    {
      "cell_type": "code",
      "source": [
        "result.reverse()"
      ],
      "metadata": {
        "id": "Zp9S7Fes-7A2"
      },
      "execution_count": 32,
      "outputs": []
    },
    {
      "cell_type": "code",
      "source": [
        "result"
      ],
      "metadata": {
        "id": "5zq1Yn_Y-9Q8",
        "colab": {
          "base_uri": "https://localhost:8080/"
        },
        "outputId": "0884499c-9e44-479b-a003-bf1f25216930"
      },
      "execution_count": 33,
      "outputs": [
        {
          "output_type": "execute_result",
          "data": {
            "text/plain": [
              "[(5, 0.8626580116159891, 'rbf', 1, 1),\n",
              " (2, 0.862363387978142, 'linear', 0.1, 0.001),\n",
              " (4, 0.860655737704918, 'linear', 1, 0.001),\n",
              " (8, 0.8603142076502732, 'linear', 0.1, 0.01),\n",
              " (5, 0.8596311475409836, 'rbf', 1, 0.1),\n",
              " (9, 0.8595831909805262, 'linear', 100, 0.001),\n",
              " (5, 0.8586065573770492, 'linear', 100, 1),\n",
              " (5, 0.8582650273224044, 'rbf', 0.1, 0.0001),\n",
              " (4, 0.8582166040314315, 'rbf', 0.1, 0.001),\n",
              " (2, 0.85724043715847, 'rbf', 1, 0.1),\n",
              " (9, 0.8558743169398907, 'linear', 100, 0.01),\n",
              " (9, 0.8548497267759563, 'linear', 100, 0.001),\n",
              " (3, 0.8541666666666666, 'linear', 1000, 1),\n",
              " (0, 0.8538251366120219, 'rbf', 1, 1),\n",
              " (3, 0.8537751964468739, 'poly', 10, 0.01),\n",
              " (8, 0.8534335497096003, 'poly', 1, 0.1),\n",
              " (3, 0.8531420765027322, 'rbf', 10, 1),\n",
              " (4, 0.8524590163934426, 'linear', 0.1, 0.1),\n",
              " (3, 0.8524590163934426, 'linear', 1, 0.1),\n",
              " (6, 0.851775956284153, 'poly', 1, 1),\n",
              " (0, 0.851775956284153, 'linear', 0.1, 0.0001),\n",
              " (6, 0.8514344262295082, 'linear', 0.1, 0.1),\n",
              " (4, 0.8514344262295082, 'rbf', 1, 0.001),\n",
              " (7, 0.8510420225486847, 'linear', 1000, 0.01),\n",
              " (4, 0.8504098360655737, 'linear', 0.1, 0.01),\n",
              " (0, 0.850068306010929, 'linear', 100, 0.001),\n",
              " (9, 0.850068306010929, 'linear', 10, 0.001),\n",
              " (3, 0.850068306010929, 'linear', 1, 0.1),\n",
              " (1, 0.8493852459016393, 'poly', 10, 0.001),\n",
              " (7, 0.8490437158469946, 'poly', 1, 0.001),\n",
              " (4, 0.8487021857923497, 'poly', 0.1, 0.001),\n",
              " (7, 0.8487021857923497, 'poly', 0.1, 0.1),\n",
              " (4, 0.8487021857923497, 'rbf', 10, 1),\n",
              " (2, 0.8483606557377049, 'linear', 100, 0.0001),\n",
              " (9, 0.8483606557377049, 'rbf', 1, 0.001),\n",
              " (8, 0.8480191256830601, 'rbf', 10, 0.001),\n",
              " (7, 0.8473360655737705, 'rbf', 10, 0.0001),\n",
              " (9, 0.8469945355191257, 'rbf', 100, 0.001),\n",
              " (4, 0.8469945355191257, 'linear', 1, 0.0001),\n",
              " (3, 0.8466530054644809, 'linear', 0.1, 0.1),\n",
              " (6, 0.8463114754098361, 'rbf', 10, 0.001),\n",
              " (6, 0.8459173214895798, 'rbf', 100, 1),\n",
              " (8, 0.8456284153005464, 'rbf', 0.1, 1),\n",
              " (6, 0.8456284153005464, 'linear', 1000, 1),\n",
              " (7, 0.8442622950819673, 'linear', 1000, 0.001),\n",
              " (8, 0.8435792349726776, 'linear', 10, 0.0001),\n",
              " (1, 0.8435792349726776, 'linear', 0.1, 0.0001),\n",
              " (2, 0.8435257943286641, 'poly', 0.1, 0.1),\n",
              " (0, 0.8432377049180327, 'linear', 100, 0.01),\n",
              " (3, 0.8425546448087432, 'poly', 1, 0.0001),\n",
              " (0, 0.8425546448087432, 'poly', 0.1, 1),\n",
              " (9, 0.8415300546448088, 'linear', 1000, 0.1),\n",
              " (1, 0.8411885245901639, 'poly', 10, 0.01),\n",
              " (1, 0.8408469945355191, 'poly', 0.1, 0.1),\n",
              " (7, 0.8408469945355191, 'poly', 10, 0.1),\n",
              " (1, 0.8384562841530054, 'rbf', 100, 0.0001),\n",
              " (7, 0.8381147540983607, 'linear', 10, 0.001),\n",
              " (5, 0.8381147540983607, 'linear', 0.1, 0.001),\n",
              " (7, 0.837431693989071, 'rbf', 100, 0.01),\n",
              " (3, 0.8370901639344263, 'linear', 1, 1),\n",
              " (6, 0.8350409836065574, 'poly', 10, 0.1),\n",
              " (7, 0.8346994535519126, 'rbf', 100, 0.01),\n",
              " (1, 0.8343579234972678, 'poly', 100, 0.1),\n",
              " (5, 0.8336748633879781, 'rbf', 100, 0.0001),\n",
              " (2, 0.8326502732240437, 'poly', 100, 0.001),\n",
              " (0, 0.8326502732240437, 'rbf', 1000, 0.1),\n",
              " (1, 0.832308743169399, 'rbf', 1000, 0.1),\n",
              " (2, 0.8306010928961749, 'poly', 100, 0.001),\n",
              " (2, 0.83025956284153, 'poly', 100, 1),\n",
              " (2, 0.83025956284153, 'poly', 0.1, 0.1),\n",
              " (5, 0.8299180327868853, 'poly', 0.1, 0.1),\n",
              " (6, 0.8299180327868853, 'poly', 1000, 0.01),\n",
              " (0, 0.8261612021857924, 'rbf', 1000, 0.001),\n",
              " (9, 0.8261612021857924, 'poly', 100, 0.01),\n",
              " (8, 0.8258196721311475, 'rbf', 100, 1),\n",
              " (0, 0.82166040314315, 'rbf', 1000, 0.0001),\n",
              " (0, 0.8128415300546448, 'rbf', 1000, 0.1),\n",
              " (6, 0.8104508196721312, 'sigmoid', 0.1, 0.01),\n",
              " (2, 0.8094262295081968, 'poly', 1000, 0.0001),\n",
              " (9, 0.8056693989071039, 'poly', 1000, 0.1),\n",
              " (5, 0.7916666666666666, 'sigmoid', 0.1, 0.01),\n",
              " (9, 0.7903005464480874, 'sigmoid', 0.1, 0.001),\n",
              " (7, 0.7797131147540983, 'sigmoid', 1000, 0.1),\n",
              " (6, 0.7735655737704918, 'sigmoid', 1, 0.1),\n",
              " (8, 0.773224043715847, 'sigmoid', 10, 1),\n",
              " (5, 0.7701502732240437, 'sigmoid', 1000, 0.1),\n",
              " (8, 0.769808743169399, 'sigmoid', 100, 0.0001),\n",
              " (1, 0.769808743169399, 'sigmoid', 1000, 0.01),\n",
              " (0, 0.7694672131147541, 'sigmoid', 100, 0.1),\n",
              " (4, 0.7684426229508197, 'sigmoid', 1000, 0.01),\n",
              " (6, 0.76775956284153, 'sigmoid', 100, 0.0001),\n",
              " (5, 0.76775956284153, 'sigmoid', 100, 0.001),\n",
              " (3, 0.7670765027322405, 'sigmoid', 1000, 0.0001),\n",
              " (1, 0.766051912568306, 'sigmoid', 1000, 1),\n",
              " (8, 0.766051912568306, 'sigmoid', 1000, 0.0001),\n",
              " (1, 0.7649470447557226, 'sigmoid', 1, 0.0001),\n",
              " (3, 0.764344262295082, 'sigmoid', 1000, 0.001),\n",
              " (2, 0.7629781420765027, 'sigmoid', 10, 0.0001),\n",
              " (8, 0.7588797814207651, 'sigmoid', 1000, 0.0001),\n",
              " (4, 0.7568306010928961, 'sigmoid', 10, 0.1)]"
            ]
          },
          "metadata": {},
          "execution_count": 33
        }
      ]
    },
    {
      "cell_type": "code",
      "source": [],
      "metadata": {
        "id": "mZrvhfz1_iw3"
      },
      "execution_count": 28,
      "outputs": []
    },
    {
      "cell_type": "code",
      "source": [],
      "metadata": {
        "id": "K8i2INo3FiNO"
      },
      "execution_count": 28,
      "outputs": []
    }
  ]
}